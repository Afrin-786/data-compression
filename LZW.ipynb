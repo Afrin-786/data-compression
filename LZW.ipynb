{
  "nbformat": 4,
  "nbformat_minor": 0,
  "metadata": {
    "colab": {
      "name": "LZW.ipynb",
      "provenance": [],
      "authorship_tag": "ABX9TyPNUl8tKIvMFwR2cDeqQpVm",
      "include_colab_link": true
    },
    "kernelspec": {
      "name": "python3",
      "display_name": "Python 3"
    }
  },
  "cells": [
    {
      "cell_type": "markdown",
      "metadata": {
        "id": "view-in-github",
        "colab_type": "text"
      },
      "source": [
        "<a href=\"https://colab.research.google.com/github/Afrin-786/data-compression/blob/master/LZW.ipynb\" target=\"_parent\"><img src=\"https://colab.research.google.com/assets/colab-badge.svg\" alt=\"Open In Colab\"/></a>"
      ]
    },
    {
      "cell_type": "code",
      "metadata": {
        "id": "SoCjFoXOCYGg",
        "colab_type": "code",
        "colab": {}
      },
      "source": [
        ""
      ],
      "execution_count": null,
      "outputs": []
    },
    {
      "cell_type": "code",
      "metadata": {
        "id": "dXWheTSmCb4C",
        "colab_type": "code",
        "colab": {}
      },
      "source": [
        " \n",
        "def compress(uncompressed):\n",
        "    \"\"\"Compress a string to a list of output symbols.\"\"\"\n",
        " \n",
        "    # Build the dictionary.\n",
        "    dict_size = 256\n",
        "    dictionary = dict((chr(i), i) for i in range(dict_size))\n",
        "    # in Python 3: dictionary = {chr(i): i for i in range(dict_size)}\n",
        " \n",
        "    w = \"\"\n",
        "    result = []\n",
        "    for c in uncompressed:\n",
        "        wc = w + c\n",
        "        if wc in dictionary:\n",
        "            w = wc\n",
        "        else:\n",
        "            result.append(dictionary[w])\n",
        "            # Add wc to the dictionary.\n",
        "            dictionary[wc] = dict_size\n",
        "            dict_size += 1\n",
        "            w = c\n",
        " \n",
        "    # Output the code for w.\n",
        "    if w:\n",
        "        result.append(dictionary[w])\n",
        "    return result"
      ],
      "execution_count": 5,
      "outputs": []
    },
    {
      "cell_type": "code",
      "metadata": {
        "id": "wbXv_VSWD1hW",
        "colab_type": "code",
        "colab": {}
      },
      "source": [
        "compressed=compress('aiktc')"
      ],
      "execution_count": 6,
      "outputs": []
    },
    {
      "cell_type": "code",
      "metadata": {
        "id": "thOKbxJEECmM",
        "colab_type": "code",
        "colab": {
          "base_uri": "https://localhost:8080/",
          "height": 34
        },
        "outputId": "973595ab-198e-4cba-8161-89b20dcd39ba"
      },
      "source": [
        "print(compressed)"
      ],
      "execution_count": null,
      "outputs": [
        {
          "output_type": "stream",
          "text": [
            "[97, 105, 107, 116, 99]\n"
          ],
          "name": "stdout"
        }
      ]
    },
    {
      "cell_type": "code",
      "metadata": {
        "id": "ZVytVQYoEbjN",
        "colab_type": "code",
        "colab": {}
      },
      "source": [
        "compressed=compress('afrin')"
      ],
      "execution_count": 7,
      "outputs": []
    },
    {
      "cell_type": "code",
      "metadata": {
        "id": "AZVAn4IbE_WI",
        "colab_type": "code",
        "colab": {
          "base_uri": "https://localhost:8080/",
          "height": 34
        },
        "outputId": "64a94dbe-49f5-48cd-80c6-7f077a321cf3"
      },
      "source": [
        "print (compressed)"
      ],
      "execution_count": null,
      "outputs": [
        {
          "output_type": "stream",
          "text": [
            "[97, 106, 105, 100]\n"
          ],
          "name": "stdout"
        }
      ]
    },
    {
      "cell_type": "code",
      "metadata": {
        "id": "CQTkYP1mGv1b",
        "colab_type": "code",
        "colab": {}
      },
      "source": [
        ""
      ],
      "execution_count": null,
      "outputs": []
    },
    {
      "cell_type": "code",
      "metadata": {
        "id": "fp4Zq4EyFESV",
        "colab_type": "code",
        "colab": {}
      },
      "source": [
        " \n",
        "def decompress(compressed):\n",
        "    \"\"\"Decompress a list of output ks to a string.\"\"\"\n",
        "    from io import StringIO\n",
        " \n",
        "    # Build the dictionary.\n",
        "    dict_size = 256\n",
        "    dictionary = dict((i, chr(i)) for i in range(dict_size))\n",
        "    # in Python 3: dictionary = {i: chr(i) for i in range(dict_size)}\n",
        " \n",
        "    # use StringIO, otherwise this becomes O(N^2)\n",
        "    # due to string concatenation in a loop\n",
        "    result = StringIO()\n",
        "    w = chr(compressed.pop(0))\n",
        "    result.write(w)\n",
        "    for k in compressed:\n",
        "        if k in dictionary:\n",
        "            entry = dictionary[k]\n",
        "        elif k == dict_size:\n",
        "            entry = w + w[0]\n",
        "        else:\n",
        "            raise ValueError('Bad compressed k: %s' % k)\n",
        "        result.write(entry)\n",
        " \n",
        "        # Add w+entry[0] to the dictionary.\n",
        "        dictionary[dict_size] = w + entry[0]\n",
        "        dict_size += 1\n",
        " \n",
        "        w = entry\n",
        "    return result.getvalue()"
      ],
      "execution_count": 8,
      "outputs": []
    },
    {
      "cell_type": "code",
      "metadata": {
        "id": "T8sHa1B9FiwA",
        "colab_type": "code",
        "colab": {}
      },
      "source": [
        " decompressed = decompress(compressed)"
      ],
      "execution_count": 9,
      "outputs": []
    },
    {
      "cell_type": "code",
      "metadata": {
        "id": "S4NGxF_MFlD1",
        "colab_type": "code",
        "colab": {
          "base_uri": "https://localhost:8080/",
          "height": 34
        },
        "outputId": "67ee48cc-9205-4b42-fd8f-6e2dac1c0a6f"
      },
      "source": [
        "print(decompressed)"
      ],
      "execution_count": 10,
      "outputs": [
        {
          "output_type": "stream",
          "text": [
            "afrin\n"
          ],
          "name": "stdout"
        }
      ]
    },
    {
      "cell_type": "code",
      "metadata": {
        "id": "l2EioMJDGyRH",
        "colab_type": "code",
        "colab": {}
      },
      "source": [
        ""
      ],
      "execution_count": null,
      "outputs": []
    }
  ]
}